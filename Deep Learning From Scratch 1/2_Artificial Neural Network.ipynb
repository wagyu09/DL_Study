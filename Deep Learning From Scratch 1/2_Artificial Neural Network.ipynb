{
 "cells": [
  {
   "cell_type": "markdown",
   "id": "24af30e5-2c75-4cce-b3e9-832ae86d1027",
   "metadata": {},
   "source": [
    "Implementations of the activation functions"
   ]
  },
  {
   "cell_type": "code",
   "execution_count": 2,
   "id": "faf57d1e-626d-4f7a-9dc2-fe6e50511bd8",
   "metadata": {},
   "outputs": [],
   "source": [
    "import numpy as np"
   ]
  },
  {
   "cell_type": "code",
   "execution_count": 3,
   "id": "4c8385a7-2b28-431f-a367-90d5ab88eb87",
   "metadata": {},
   "outputs": [],
   "source": [
    "def step_function(x):\n",
    "    \"\"\"\n",
    "    Implements the step function\n",
    "\n",
    "    Args:\n",
    "        x (np.ndarray): Input Numpy array.\n",
    "    Returns:\n",
    "       np.ndarray: A Numpy array of the same shape as x, \n",
    "                    containing 1 for positive elements and 0 otherwise.\n",
    "    \"\"\"\n",
    "    y = x >0\n",
    "    return y.astype(int)"
   ]
  },
  {
   "cell_type": "code",
   "execution_count": 4,
   "id": "6f9b4054-d820-46a8-bb8a-71ef2e9ed0c5",
   "metadata": {},
   "outputs": [
    {
     "data": {
      "text/plain": [
       "array([0, 1, 1])"
      ]
     },
     "execution_count": 4,
     "metadata": {},
     "output_type": "execute_result"
    }
   ],
   "source": [
    "#Input Example\n",
    "x = np.array([-1.0, 1.0, 2.0])\n",
    "step_function(x)"
   ]
  },
  {
   "cell_type": "code",
   "execution_count": 5,
   "id": "ca86790e-f756-4b7c-bf14-173f3f96e11f",
   "metadata": {},
   "outputs": [],
   "source": [
    "# Implements the Sigmoid fuction\n",
    "def sigmoid(x):\n",
    "    return 1 / (1 + np.exp(-x))"
   ]
  },
  {
   "cell_type": "code",
   "execution_count": 6,
   "id": "cc996a3c-6e6c-4895-9225-863e9af611e6",
   "metadata": {},
   "outputs": [
    {
     "data": {
      "text/plain": [
       "array([0.26894142, 0.73105858, 0.88079708])"
      ]
     },
     "execution_count": 6,
     "metadata": {},
     "output_type": "execute_result"
    }
   ],
   "source": [
    "#Input Example\n",
    "x = np.array([-1.0,1.0,2.0])\n",
    "sigmoid(x)"
   ]
  },
  {
   "cell_type": "code",
   "execution_count": 7,
   "id": "6c60ea61-2be5-46ba-ba53-3582be702cd2",
   "metadata": {},
   "outputs": [],
   "source": [
    "# Implements the ReLu function\n",
    "def relu(x):\n",
    "    return np.maximum(0, x)"
   ]
  },
  {
   "cell_type": "code",
   "execution_count": 8,
   "id": "8bf0c2e0-0312-41ae-ba55-fada74c12f51",
   "metadata": {},
   "outputs": [
    {
     "data": {
      "text/plain": [
       "array([0., 1., 2.])"
      ]
     },
     "execution_count": 8,
     "metadata": {},
     "output_type": "execute_result"
    }
   ],
   "source": [
    "#Input Example\n",
    "x = np.array([-1.0,1.0,2.0])\n",
    "relu(x)"
   ]
  },
  {
   "cell_type": "code",
   "execution_count": 9,
   "id": "d448c56f-a56e-43a2-a3cf-8fdfb6b3f34a",
   "metadata": {},
   "outputs": [],
   "source": [
    "def identity_fuction(x):\n",
    "    return x"
   ]
  },
  {
   "cell_type": "code",
   "execution_count": 28,
   "id": "e99d8ca5-0c45-4516-8e04-de04fe0832e8",
   "metadata": {},
   "outputs": [],
   "source": [
    "#Implements the Softmax function\n",
    "def softmax(a):\n",
    "    c = np.max(a)\n",
    "    exp_a = np.exp(a-c) #For preventing overflow\n",
    "    sum_exp_a = np.sum(exp_a)\n",
    "    y = exp_a / sum_exp_a\n",
    "\n",
    "    return y"
   ]
  },
  {
   "cell_type": "markdown",
   "id": "debdd815-8908-44c2-9de3-c7bd1e43362f",
   "metadata": {},
   "source": [
    "Example) An implementation of 3-layer neural network"
   ]
  },
  {
   "cell_type": "code",
   "execution_count": 11,
   "id": "5e131eb2-3039-4d67-9912-df6629687133",
   "metadata": {},
   "outputs": [],
   "source": [
    "def init_network():\n",
    "    # Set arbitrary weights\n",
    "    network = {}\n",
    "    network['W1'] = np.array([[0.1,0.3,0.5], [0.2,0.4,0.6]])\n",
    "    network['b1'] = np.array([0.1,0.2,0.3])\n",
    "    network['W2'] = np.array([[0.1,0.4], [0.2,0.5],[0.3,0.6]])\n",
    "    network['b2'] = np.array([0.1,0.2])\n",
    "    network['W3'] = np.array([[0.1,0.3],[0.2,0.4]])\n",
    "    network['b3'] = np.array([0.1,0.2])\n",
    "\n",
    "    return network\n",
    "\n",
    "def forward(network,x):\n",
    "    # Perform the forward propagation\n",
    "    W1, W2, W3 = network['W1'],network['W2'],network['W3']\n",
    "    b1, b2, b3 = network['b1'],network['b2'],network['b3']\n",
    "\n",
    "    a1 = np.dot(x,W1) + b1\n",
    "    z1 = sigmoid(a1)\n",
    "    a2 = np.dot(z1,W2) + b2\n",
    "    z2 = sigmoid(a2)\n",
    "    a3 = np.dot(z2,W3) + b3\n",
    "    z3 = sigmoid(a3) \n",
    "\n",
    "    y = identity_fuction(a3)\n",
    "\n",
    "    return y"
   ]
  },
  {
   "cell_type": "code",
   "execution_count": 12,
   "id": "41830036-9cd0-4fdc-bea2-f15523733a4f",
   "metadata": {},
   "outputs": [
    {
     "data": {
      "text/plain": [
       "array([0.31682708, 0.69627909])"
      ]
     },
     "execution_count": 12,
     "metadata": {},
     "output_type": "execute_result"
    }
   ],
   "source": [
    "network = init_network()\n",
    "x = np.array([1.0,0.5])\n",
    "y = forward(network,x)\n",
    "y"
   ]
  },
  {
   "cell_type": "markdown",
   "id": "97900910-eef1-4366-ba63-ce49caca96e1",
   "metadata": {},
   "source": [
    "Example) An implementation of the inference process using the MNIST dataset"
   ]
  },
  {
   "cell_type": "code",
   "execution_count": 24,
   "id": "34f92d81-4e45-4337-af67-8404fe24a555",
   "metadata": {},
   "outputs": [],
   "source": [
    "from mnist import load_mnist\n",
    "import pickle\n",
    "def get_data():\n",
    "    # Get data from the mnist dataset\n",
    "    (x_train, t_train), (x_test,t_test) = load_mnist(flatten = True, normalize = False)\n",
    "\n",
    "    return x_test, t_test\n",
    "\n",
    "def init_network():\n",
    "    # load the pre-trained sample weights\n",
    "    with open(\"sample_weight.pkl\", \"rb\") as f:   \n",
    "        network = pickle.load(f)\n",
    "\n",
    "    return network\n",
    "\n",
    "def predict(network, x):\n",
    "    # Perform forward propagation and return prediction\n",
    "    W1,W2,W3 = network['W1'],network['W2'],network['W3']\n",
    "    b1,b2,b3 = network['b1'],network['b2'],network['b3']\n",
    "\n",
    "    a1 = np.dot(x,W1) + b1\n",
    "    z1 = sigmoid(a1)\n",
    "    a2 = np.dot(z1,W2) + b2\n",
    "    z2 = sigmoid(a2)\n",
    "    a3 = np.dot(z2,W3) + b3\n",
    "    y = softmax(a3)\n",
    "\n",
    "    return y"
   ]
  },
  {
   "cell_type": "code",
   "execution_count": 29,
   "id": "f3fe5163-f605-417b-8c99-5281de6c8589",
   "metadata": {},
   "outputs": [
    {
     "name": "stdout",
     "output_type": "stream",
     "text": [
      "0.9207\n"
     ]
    },
    {
     "name": "stderr",
     "output_type": "stream",
     "text": [
      "C:\\Users\\Public\\Documents\\ESTsoft\\CreatorTemp\\ipykernel_13472\\3386560700.py:3: RuntimeWarning: overflow encountered in exp\n",
      "  return 1 / (1 + np.exp(-x))\n"
     ]
    }
   ],
   "source": [
    "x, t = get_data()\n",
    "network = init_network()\n",
    "\n",
    "batch_size = 100\n",
    "accuracy_cnt = 0\n",
    "\n",
    "for i in range(0,len(x), batch_size):\n",
    "    x_batch = x[i:i+batch_size]\n",
    "    y_batch = predict(network, x_batch)\n",
    "    p = np.argmax(y_batch, axis=1)\n",
    "    accuracy_cnt += np.sum(p == t[i:i+batch_size])\n",
    "\n",
    "print(float(accuracy_cnt/len(x)))"
   ]
  },
  {
   "cell_type": "code",
   "execution_count": null,
   "id": "5e90fb3d-2f50-4b26-8ead-86363e4a1bbf",
   "metadata": {},
   "outputs": [],
   "source": []
  }
 ],
 "metadata": {
  "kernelspec": {
   "display_name": "Python 3 (ipykernel)",
   "language": "python",
   "name": "python3"
  },
  "language_info": {
   "codemirror_mode": {
    "name": "ipython",
    "version": 3
   },
   "file_extension": ".py",
   "mimetype": "text/x-python",
   "name": "python",
   "nbconvert_exporter": "python",
   "pygments_lexer": "ipython3",
   "version": "3.11.13"
  }
 },
 "nbformat": 4,
 "nbformat_minor": 5
}
