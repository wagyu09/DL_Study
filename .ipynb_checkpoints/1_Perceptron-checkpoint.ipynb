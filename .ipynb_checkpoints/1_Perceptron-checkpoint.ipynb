{
 "cells": [
  {
   "cell_type": "code",
   "execution_count": 1,
   "id": "58359a74-ccfe-472f-821c-2218d89209e2",
   "metadata": {},
   "outputs": [],
   "source": [
    "import numpy as np"
   ]
  },
  {
   "cell_type": "code",
   "execution_count": 2,
   "id": "f082c30e-aae4-4782-afa8-afe4f7ffec85",
   "metadata": {},
   "outputs": [],
   "source": [
    "#A simple implementation of an AND gate\n",
    "def AND(X1, X2):\n",
    "    x = np.array([X1,X2])\n",
    "    W = np.array([0.5,0.5])\n",
    "    b = -0.7\n",
    "    tmp = np.sum(x*W) + b\n",
    "\n",
    "    if tmp <= 0:\n",
    "        return 0\n",
    "    else :\n",
    "        return 1"
   ]
  },
  {
   "cell_type": "code",
   "execution_count": 3,
   "id": "9227d3e8-360c-48a5-9ea4-4d9bd471dacc",
   "metadata": {},
   "outputs": [],
   "source": [
    "#A simple implementation of a NAND gate\n",
    "def NAND(X1, X2):\n",
    "    x = np.array([X1,X2])\n",
    "    W = np.array([-0.5,-0.5])\n",
    "    b = 0.7\n",
    "    tmp = np.sum(x*W) + b\n",
    "\n",
    "    if tmp <= 0:\n",
    "        return 0\n",
    "    else:\n",
    "        return 1"
   ]
  },
  {
   "cell_type": "code",
   "execution_count": 4,
   "id": "b8ae2111-df07-4bca-903e-f494bff4545f",
   "metadata": {},
   "outputs": [],
   "source": [
    "#A simple implementation of an OR gate\n",
    "def OR(X1, X2):\n",
    "    x = np.array([X1,X2])\n",
    "    W = np.array([0.5,0.5])\n",
    "    b=  -0.2\n",
    "    tmp = np.sum(x*W) + b\n",
    "\n",
    "    if tmp <= 0:\n",
    "        return 0\n",
    "    else:\n",
    "        return 1"
   ]
  },
  {
   "cell_type": "code",
   "execution_count": 5,
   "id": "f2cc0685-684e-428d-81ff-c09194b528ed",
   "metadata": {},
   "outputs": [],
   "source": [
    "#An implementation of a XOR gate using NAND,OR,and AND gates\n",
    "def XOR(X1, X2):\n",
    "    s1 = NAND(x1, x2)\n",
    "    s2 = OR(x1, x2)\n",
    "    y = AND(s1,s2)\n",
    "    return y"
   ]
  }
 ],
 "metadata": {
  "kernelspec": {
   "display_name": "Python 3 (ipykernel)",
   "language": "python",
   "name": "python3"
  },
  "language_info": {
   "codemirror_mode": {
    "name": "ipython",
    "version": 3
   },
   "file_extension": ".py",
   "mimetype": "text/x-python",
   "name": "python",
   "nbconvert_exporter": "python",
   "pygments_lexer": "ipython3",
   "version": "3.11.13"
  }
 },
 "nbformat": 4,
 "nbformat_minor": 5
}
